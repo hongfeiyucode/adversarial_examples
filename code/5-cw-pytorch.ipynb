{
 "cells": [
  {
   "cell_type": "code",
   "execution_count": 2,
   "metadata": {
    "ExecuteTime": {
     "end_time": "2022-05-06T03:00:28.829868Z",
     "start_time": "2022-05-06T03:00:27.831379Z"
    }
   },
   "outputs": [
    {
     "ename": "ModuleNotFoundError",
     "evalue": "No module named 'tensorflow'",
     "output_type": "error",
     "traceback": [
      "\u001b[0;31m---------------------------------------------------------------------------\u001b[0m",
      "\u001b[0;31mModuleNotFoundError\u001b[0m                       Traceback (most recent call last)",
      "\u001b[0;32m<ipython-input-2-b698ebe87278>\u001b[0m in \u001b[0;36m<module>\u001b[0;34m()\u001b[0m\n\u001b[1;32m     10\u001b[0m \u001b[0;32mimport\u001b[0m \u001b[0mnumpy\u001b[0m \u001b[0;32mas\u001b[0m \u001b[0mnp\u001b[0m\u001b[0;34m\u001b[0m\u001b[0;34m\u001b[0m\u001b[0m\n\u001b[1;32m     11\u001b[0m \u001b[0;32mimport\u001b[0m \u001b[0mcv2\u001b[0m\u001b[0;34m\u001b[0m\u001b[0;34m\u001b[0m\u001b[0m\n\u001b[0;32m---> 12\u001b[0;31m \u001b[0;32mfrom\u001b[0m \u001b[0mtools\u001b[0m \u001b[0;32mimport\u001b[0m \u001b[0mshow_images_diff\u001b[0m\u001b[0;34m\u001b[0m\u001b[0;34m\u001b[0m\u001b[0m\n\u001b[0m",
      "\u001b[0;32m/home/xieganglin/adversarial_examples/code/tools.py\u001b[0m in \u001b[0;36m<module>\u001b[0;34m()\u001b[0m\n\u001b[1;32m      3\u001b[0m \u001b[0;32mimport\u001b[0m \u001b[0mnumpy\u001b[0m \u001b[0;32mas\u001b[0m \u001b[0mnp\u001b[0m\u001b[0;34m\u001b[0m\u001b[0;34m\u001b[0m\u001b[0m\n\u001b[1;32m      4\u001b[0m \u001b[0;32mimport\u001b[0m \u001b[0mmatplotlib\u001b[0m\u001b[0;34m.\u001b[0m\u001b[0mpyplot\u001b[0m \u001b[0;32mas\u001b[0m \u001b[0mplt\u001b[0m\u001b[0;34m\u001b[0m\u001b[0;34m\u001b[0m\u001b[0m\n\u001b[0;32m----> 5\u001b[0;31m \u001b[0;32mimport\u001b[0m \u001b[0mtensorflow\u001b[0m \u001b[0;32mas\u001b[0m \u001b[0mtf\u001b[0m\u001b[0;34m\u001b[0m\u001b[0;34m\u001b[0m\u001b[0m\n\u001b[0m\u001b[1;32m      6\u001b[0m \u001b[0;32mimport\u001b[0m \u001b[0mre\u001b[0m\u001b[0;34m\u001b[0m\u001b[0;34m\u001b[0m\u001b[0m\n\u001b[1;32m      7\u001b[0m \u001b[0;34m\u001b[0m\u001b[0m\n",
      "\u001b[0;31mModuleNotFoundError\u001b[0m: No module named 'tensorflow'"
     ]
    }
   ],
   "source": [
    "#CW\n",
    "import torch\n",
    "import torchvision\n",
    "from torchvision import datasets, transforms\n",
    "from torch.autograd import Variable\n",
    "#from torch.autograd.gradcheck import zero_gradients\n",
    "import torch.utils.data.dataloader as Data\n",
    "import torch.nn as nn\n",
    "from torchvision import models\n",
    "import numpy as np\n",
    "import cv2\n",
    "from tools import show_images_diff"
   ]
  },
  {
   "cell_type": "code",
   "execution_count": null,
   "metadata": {
    "ExecuteTime": {
     "end_time": "2022-05-06T03:00:28.835283Z",
     "start_time": "2022-05-06T03:00:27.753Z"
    }
   },
   "outputs": [],
   "source": [
    "#获取计算设备 默认是CPU\n",
    "device = torch.device(\"cuda\" if torch.cuda.is_available() else \"cpu\")\n",
    "\n",
    "#图像加载以及预处理\n",
    "image_path=\"../picture/cow.jpeg\"\n",
    "orig = cv2.imread(image_path)[..., ::-1]\n",
    "orig = cv2.resize(orig, (224, 224))\n",
    "img = orig.copy().astype(np.float32)\n",
    "\n",
    "mean = [0.485, 0.456, 0.406]\n",
    "std = [0.229, 0.224, 0.225]\n",
    "img /= 255.0\n",
    "img = (img - mean) / std\n",
    "img = img.transpose(2, 0, 1)\n",
    "\n",
    "img=np.expand_dims(img, axis=0)\n",
    "\n",
    "print(img.shape)\n",
    "\n",
    "#使用预测模式 主要影响droupout和BN层的行为\n",
    "model = models.alexnet(pretrained=True).to(device).eval()\n"
   ]
  },
  {
   "cell_type": "code",
   "execution_count": null,
   "metadata": {
    "ExecuteTime": {
     "end_time": "2022-05-06T03:00:28.836158Z",
     "start_time": "2022-05-06T03:00:27.755Z"
    }
   },
   "outputs": [],
   "source": [
    "#adam的最大迭代次数 论文中建议10000次 测试阶段1000也可以 1000次可以完成95%的优化工作\n",
    "max_iterations=1000\n",
    "#adam学习速率\n",
    "learning_rate=0.01\n",
    "#二分查找最大次数\n",
    "binary_search_steps=10\n",
    "#c的初始值\n",
    "initial_const=1e2\n",
    "confidence=initial_const\n",
    "\n",
    "#k值\n",
    "k=40\n",
    "\n",
    "#像素值区间\n",
    "boxmin = -3.0\n",
    "boxmax = 3.0\n",
    "\n",
    "#类别数 pytorch的实现里面是1000\n",
    "num_labels=1000\n",
    "\n",
    "#攻击目标标签 必须使用one hot编码\n",
    "target_label=288\n",
    "tlab=Variable(torch.from_numpy(np.eye(num_labels)[target_label]).to(device).float())\n",
    "\n",
    "\n",
    "print()\n",
    "\n",
    "shape = (1,3,224,224)\n"
   ]
  },
  {
   "cell_type": "code",
   "execution_count": null,
   "metadata": {
    "ExecuteTime": {
     "end_time": "2022-05-06T03:00:28.836674Z",
     "start_time": "2022-05-06T03:00:27.756Z"
    }
   },
   "outputs": [],
   "source": [
    "\n",
    "\n",
    "#c的初始化边界\n",
    "lower_bound = 0\n",
    "c=initial_const\n",
    "upper_bound = 1e10\n",
    "\n",
    "# the best l2, score, and image attack\n",
    "o_bestl2 = 1e10\n",
    "o_bestscore = -1\n",
    "o_bestattack = [np.zeros(shape)]\n",
    "\n"
   ]
  },
  {
   "cell_type": "code",
   "execution_count": null,
   "metadata": {
    "ExecuteTime": {
     "end_time": "2022-05-06T03:00:28.837296Z",
     "start_time": "2022-05-06T03:00:27.757Z"
    }
   },
   "outputs": [],
   "source": [
    "# the resulting image, tanh'd to keep bounded from boxmin to boxmax\n",
    "boxmul = (boxmax - boxmin) / 2.\n",
    "boxplus = (boxmin + boxmax) / 2.\n",
    "\n",
    "for outer_step in range(binary_search_steps):\n",
    "    print(\"o_bestl2={} confidence={}\".format(o_bestl2,confidence)  )\n",
    "    \n",
    "    #把原始图像转换成图像数据和扰动的形态\n",
    "    timg = Variable(torch.from_numpy(np.arctanh((img - boxplus) / boxmul * 0.999999)).to(device).float())\n",
    "    modifier=Variable(torch.zeros_like(timg).to(device).float())\n",
    "    \n",
    "\n",
    "    #设置为不保存梯度值 自然也无法修改\n",
    "    #for param in model.parameters():\n",
    "    #    param.requires_grad = False\n",
    "        \n",
    "    #图像数据的扰动量梯度可以获取\n",
    "    modifier.requires_grad = True\n",
    "    \n",
    "\n",
    "    #定义优化器 仅优化modifier\n",
    "    optimizer = torch.optim.Adam([modifier],lr=learning_rate)\n",
    "    \n",
    "    for iteration in range(1,max_iterations+1):\n",
    "        optimizer.zero_grad()\n",
    "        \n",
    "        #定义新输入\n",
    "        newimg = torch.tanh(modifier + timg) * boxmul + boxplus\n",
    "      \n",
    "        output=model(newimg)\n",
    "             \n",
    "        #定义cw中的损失函数\n",
    "        \n",
    "        #l2范数\n",
    "        #l2dist = tf.reduce_sum(tf.square(newimg-(tf.tanh(timg) * boxmul + boxplus)),[1,2,3])\n",
    "        #loss2 = tf.reduce_sum(l2dist)\n",
    "        loss2=torch.dist(newimg,(torch.tanh(timg) * boxmul + boxplus),p=2)\n",
    "        \n",
    "        \"\"\"\n",
    "        # compute the probability of the label class versus the maximum other\n",
    "            real = tf.reduce_sum((tlab)*output,1)\n",
    "            # 论文中的开源实现 other = tf.reduce_max((1-tlab)*output - (tlab*10000),1)\n",
    "            other = tf.reduce_max((1-tlab)*output)\n",
    "            loss1 = tf.maximum(0.0, other-real+k)\n",
    "            loss1 = tf.reduce_sum(const*loss1)\n",
    "        \"\"\"\n",
    "               \n",
    "        real=torch.max(output*tlab)\n",
    "        other=torch.max((1-tlab)*output)  \n",
    "        loss1=other-real+k   \n",
    "        loss1=torch.clamp(loss1,min=0)\n",
    "             \n",
    "        loss1=confidence*loss1\n",
    "           \n",
    "        loss=loss1+loss2\n",
    "        \n",
    "            \n",
    "        loss.backward(retain_graph=True)\n",
    "\n",
    "        optimizer.step()\n",
    "              \n",
    "        l2=loss2\n",
    "        \n",
    "        sc=output.data.cpu().numpy()\n",
    "        \n",
    "        # print out the losses every 10%\n",
    "        if iteration%(max_iterations//10) == 0:\n",
    "            print(\"iteration={} loss={} loss1={} loss2={}\".format(iteration,loss,loss1,loss2))\n",
    "              \n",
    "        if (l2 < o_bestl2) and (np.argmax(sc) == target_label  ):\n",
    "            print(\"attack success l2={} target_label={}\".format(l2,target_label))\n",
    "            o_bestl2 = l2\n",
    "            o_bestscore = np.argmax(sc)\n",
    "            o_bestattack = newimg.data.cpu().numpy()\n",
    "            \n",
    "    confidence_old=-1       \n",
    "    if (o_bestscore == target_label) and o_bestscore != -1:\n",
    "        #攻击成功 减小c\n",
    "        upper_bound = min(upper_bound,confidence)\n",
    "        if upper_bound < 1e9:\n",
    "                print()\n",
    "                confidence_old=confidence\n",
    "                confidence = (lower_bound + upper_bound)/2\n",
    "    else:\n",
    "        lower_bound = max(lower_bound,confidence)\n",
    "        confidence_old=confidence\n",
    "        if upper_bound < 1e9:\n",
    "                confidence = (lower_bound + upper_bound)/2\n",
    "        else:\n",
    "                confidence *= 10\n",
    "                \n",
    "    print(\"outer_step={} confidence {}->{}\".format(outer_step,confidence_old,confidence))"
   ]
  },
  {
   "cell_type": "code",
   "execution_count": null,
   "metadata": {
    "ExecuteTime": {
     "end_time": "2022-05-06T03:00:28.837943Z",
     "start_time": "2022-05-06T03:00:27.758Z"
    }
   },
   "outputs": [],
   "source": [
    "print(o_bestattack.shape)\n",
    "print(img.shape)"
   ]
  },
  {
   "cell_type": "code",
   "execution_count": null,
   "metadata": {
    "ExecuteTime": {
     "end_time": "2022-05-06T03:00:28.838447Z",
     "start_time": "2022-05-06T03:00:27.758Z"
    }
   },
   "outputs": [],
   "source": [
    "adv=o_bestattack[0]\n",
    "print(adv.shape)\n",
    "adv = adv.transpose(1, 2, 0)\n",
    "adv = (adv * std) + mean\n",
    "adv = adv * 255.0\n",
    "adv = np.clip(adv, 0, 255).astype(np.uint8)\n",
    "%matplotlib inline\n",
    "show_images_diff(orig,0,adv,0)"
   ]
  },
  {
   "cell_type": "code",
   "execution_count": null,
   "metadata": {},
   "outputs": [],
   "source": []
  }
 ],
 "metadata": {
  "kernelspec": {
   "display_name": "Python 3",
   "language": "python",
   "name": "python3"
  },
  "language_info": {
   "codemirror_mode": {
    "name": "ipython",
    "version": 3
   },
   "file_extension": ".py",
   "mimetype": "text/x-python",
   "name": "python",
   "nbconvert_exporter": "python",
   "pygments_lexer": "ipython3",
   "version": "3.6.13"
  },
  "varInspector": {
   "cols": {
    "lenName": 16,
    "lenType": 16,
    "lenVar": 40
   },
   "kernels_config": {
    "python": {
     "delete_cmd_postfix": "",
     "delete_cmd_prefix": "del ",
     "library": "var_list.py",
     "varRefreshCmd": "print(var_dic_list())"
    },
    "r": {
     "delete_cmd_postfix": ") ",
     "delete_cmd_prefix": "rm(",
     "library": "var_list.r",
     "varRefreshCmd": "cat(var_dic_list()) "
    }
   },
   "types_to_exclude": [
    "module",
    "function",
    "builtin_function_or_method",
    "instance",
    "_Feature"
   ],
   "window_display": false
  }
 },
 "nbformat": 4,
 "nbformat_minor": 2
}
